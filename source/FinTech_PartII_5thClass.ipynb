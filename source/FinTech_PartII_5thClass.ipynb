{
 "cells": [
  {
   "cell_type": "markdown",
   "id": "27003c4c-558a-44e2-8a33-819ae9b898fe",
   "metadata": {},
   "source": [
    "### 数据预处理\n",
    "\n",
    "现实的数据往往是充满噪声的，⽽没有⾼质量的数据，就没有⾼质量的数据挖掘结果。所以，我们需要对数据进⾏预处理，以提⾼数据的质量。  \n",
    "数据的质量涉及许多因素，包括：准确性、完整性、⼀致性、时效性、可信性、可解释性\n",
    "\n",
    "数据预处理的主要步骤为：\n",
    "- 数据清理：通过填写缺失值、光滑噪声数据、识别或删除离群点。并解决不⼀致性来“清理”数据\n",
    "- 数据集成：将多个数据源、数据库集成为⼀个\n",
    "- 数据规约：将得到的数据进⾏简化，去除冗余数据\n",
    "- 数据变换：讲数据进⾏规范化、数据离散化和数据分层，可以使得数据挖掘在多个抽象层次上进⾏。\n",
    "\n",
    "[sklearn.preprocessing](https://scikit-learn.org/stable/modules/classes.html#module-sklearn.preprocessing)"
   ]
  },
  {
   "cell_type": "markdown",
   "id": "5ed40cf0-4d9e-48c8-a51d-01242fd7cfde",
   "metadata": {},
   "source": [
    "#### 数据编码(encoding)\n",
    "\n",
    "对离散数据进行编码的总原则：\n",
    "- 离散特征的取值之间没有大小的意义，比如color: [red, blue]，性别的男女等，那么就使用OneHot编码\n",
    "- 离散特征的取值有大小的意义，比如size: [X,XL,XXL]，身高的高、中、低等，那么就使用数值的映射{X:1,XL:2,XXL:3}进行编码\n"
   ]
  },
  {
   "cell_type": "code",
   "execution_count": 1,
   "id": "03e80782-857d-4a1c-a46d-82dfa1b663a7",
   "metadata": {},
   "outputs": [
    {
     "data": {
      "text/html": [
       "<div>\n",
       "<style scoped>\n",
       "    .dataframe tbody tr th:only-of-type {\n",
       "        vertical-align: middle;\n",
       "    }\n",
       "\n",
       "    .dataframe tbody tr th {\n",
       "        vertical-align: top;\n",
       "    }\n",
       "\n",
       "    .dataframe thead th {\n",
       "        text-align: right;\n",
       "    }\n",
       "</style>\n",
       "<table border=\"1\" class=\"dataframe\">\n",
       "  <thead>\n",
       "    <tr style=\"text-align: right;\">\n",
       "      <th></th>\n",
       "      <th>婚姻状况</th>\n",
       "      <th>是否拥有房产</th>\n",
       "      <th>年收入</th>\n",
       "      <th>是否能偿还债务</th>\n",
       "    </tr>\n",
       "  </thead>\n",
       "  <tbody>\n",
       "    <tr>\n",
       "      <th>0</th>\n",
       "      <td>单身</td>\n",
       "      <td>是</td>\n",
       "      <td>12.5</td>\n",
       "      <td>否</td>\n",
       "    </tr>\n",
       "    <tr>\n",
       "      <th>1</th>\n",
       "      <td>已婚</td>\n",
       "      <td>否</td>\n",
       "      <td>10.0</td>\n",
       "      <td>否</td>\n",
       "    </tr>\n",
       "    <tr>\n",
       "      <th>2</th>\n",
       "      <td>单身</td>\n",
       "      <td>否</td>\n",
       "      <td>7.0</td>\n",
       "      <td>否</td>\n",
       "    </tr>\n",
       "    <tr>\n",
       "      <th>3</th>\n",
       "      <td>已婚</td>\n",
       "      <td>是</td>\n",
       "      <td>12.0</td>\n",
       "      <td>否</td>\n",
       "    </tr>\n",
       "    <tr>\n",
       "      <th>4</th>\n",
       "      <td>离婚</td>\n",
       "      <td>否</td>\n",
       "      <td>9.5</td>\n",
       "      <td>是</td>\n",
       "    </tr>\n",
       "  </tbody>\n",
       "</table>\n",
       "</div>"
      ],
      "text/plain": [
       "  婚姻状况 是否拥有房产   年收入 是否能偿还债务\n",
       "0   单身      是  12.5       否\n",
       "1   已婚      否  10.0       否\n",
       "2   单身      否   7.0       否\n",
       "3   已婚      是  12.0       否\n",
       "4   离婚      否   9.5       是"
      ]
     },
     "execution_count": 1,
     "metadata": {},
     "output_type": "execute_result"
    }
   ],
   "source": [
    "import pandas as pd\n",
    "import numpy as np\n",
    "\n",
    "data = pd.DataFrame({'婚姻状况':['单身', '已婚', '单身', '已婚', '离婚'], \n",
    "                     '是否拥有房产':['是', '否', '否', '是', '否'], \n",
    "                     '年收入':[12.5, 10, 7, 12, 9.5],\n",
    "                     '是否能偿还债务':['否', '否', '否', '否', '是']})\n",
    "data"
   ]
  },
  {
   "cell_type": "markdown",
   "id": "da83e403-eef1-4302-9796-b199accd3ac0",
   "metadata": {},
   "source": [
    "`sklearn.preprocessing.LabelEncoder`\n",
    "\n",
    ">使用0到n_classes-1之间的值对目标标签进行编码。该转换器应用于编码**目标值**（接受一维数组），即 y，而不是输入X。"
   ]
  },
  {
   "cell_type": "code",
   "execution_count": 2,
   "id": "c1c1c318-972f-4ad6-9354-dc6707cbc0a1",
   "metadata": {},
   "outputs": [
    {
     "data": {
      "text/plain": [
       "array([0, 0, 0, 0, 1])"
      ]
     },
     "execution_count": 2,
     "metadata": {},
     "output_type": "execute_result"
    }
   ],
   "source": [
    "from sklearn.preprocessing import LabelEncoder\n",
    "\n",
    "LabelEncoder().fit_transform(data['是否能偿还债务'])"
   ]
  },
  {
   "cell_type": "markdown",
   "id": "469af01a-88ba-4551-99ff-275a9d999798",
   "metadata": {},
   "source": [
    "`sklearn.preprocessing.OrdinalEncoder`\n",
    "\n",
    "> 将分类**特征**编码为整数数组（接受二维数组）。  \n",
    "该转换器的输入应为整数或字符串之类的数组，表示分类（离散）特征所采用的值。特征值将转换为0到n_categories-1的整数序列。"
   ]
  },
  {
   "cell_type": "code",
   "execution_count": 3,
   "id": "ae3f8137-96c2-4b2f-87d3-74d5db7a4d58",
   "metadata": {},
   "outputs": [
    {
     "data": {
      "text/plain": [
       "array([[0., 1.],\n",
       "       [1., 0.],\n",
       "       [0., 0.],\n",
       "       [1., 1.],\n",
       "       [2., 0.]])"
      ]
     },
     "execution_count": 3,
     "metadata": {},
     "output_type": "execute_result"
    }
   ],
   "source": [
    "from sklearn.preprocessing import OrdinalEncoder\n",
    "\n",
    "OrdinalEncoder().fit_transform(data[['婚姻状况', '是否拥有房产']])"
   ]
  },
  {
   "cell_type": "markdown",
   "id": "5007efbf-27ae-4f8e-b7ed-14731380153c",
   "metadata": {},
   "source": [
    "**独热编码**\n",
    "\n",
    "可以这样理解，对于每一个特征，如果它有m个可能值，那么经过独热编码后，就变成了m个**二元**特征（如成绩这个特征有[好，中，差]变成one-hot就是[100, 010, 001]）。并且，这些特征互斥，每次只有一个激活。因此，数据会变成稀疏的。\n",
    "\n",
    "这样做的好处主要有：\n",
    "- 解决了分类器不好处理属性数据的问题 \n",
    "- 在一定程度上也起到了扩充特征的作用\n",
    "\n",
    "采取one-hot编码是因为大部分算法是基于向量空间中的度量来进行计算的，目的是为了使非偏序关系的变量取值不具有偏序性，并且到原点是等距的。将离散型特征使用one-hot编码，会让特征之间的距离计算更加合理。\n",
    "\n",
    "方法：\n",
    "- `pd.get_dummies`  \n",
    "- `sklearn.preprocessing.OneHotEncoder`"
   ]
  },
  {
   "cell_type": "code",
   "execution_count": 4,
   "id": "eafe9723-384c-4829-8060-cd19a9a86587",
   "metadata": {},
   "outputs": [
    {
     "data": {
      "text/html": [
       "<div>\n",
       "<style scoped>\n",
       "    .dataframe tbody tr th:only-of-type {\n",
       "        vertical-align: middle;\n",
       "    }\n",
       "\n",
       "    .dataframe tbody tr th {\n",
       "        vertical-align: top;\n",
       "    }\n",
       "\n",
       "    .dataframe thead th {\n",
       "        text-align: right;\n",
       "    }\n",
       "</style>\n",
       "<table border=\"1\" class=\"dataframe\">\n",
       "  <thead>\n",
       "    <tr style=\"text-align: right;\">\n",
       "      <th></th>\n",
       "      <th>婚姻状况</th>\n",
       "      <th>是否拥有房产</th>\n",
       "      <th>年收入</th>\n",
       "      <th>是否能偿还债务</th>\n",
       "    </tr>\n",
       "  </thead>\n",
       "  <tbody>\n",
       "    <tr>\n",
       "      <th>0</th>\n",
       "      <td>单身</td>\n",
       "      <td>是</td>\n",
       "      <td>12.5</td>\n",
       "      <td>否</td>\n",
       "    </tr>\n",
       "    <tr>\n",
       "      <th>1</th>\n",
       "      <td>已婚</td>\n",
       "      <td>否</td>\n",
       "      <td>10.0</td>\n",
       "      <td>否</td>\n",
       "    </tr>\n",
       "    <tr>\n",
       "      <th>2</th>\n",
       "      <td>单身</td>\n",
       "      <td>否</td>\n",
       "      <td>7.0</td>\n",
       "      <td>否</td>\n",
       "    </tr>\n",
       "    <tr>\n",
       "      <th>3</th>\n",
       "      <td>已婚</td>\n",
       "      <td>是</td>\n",
       "      <td>12.0</td>\n",
       "      <td>否</td>\n",
       "    </tr>\n",
       "    <tr>\n",
       "      <th>4</th>\n",
       "      <td>离婚</td>\n",
       "      <td>否</td>\n",
       "      <td>9.5</td>\n",
       "      <td>是</td>\n",
       "    </tr>\n",
       "  </tbody>\n",
       "</table>\n",
       "</div>"
      ],
      "text/plain": [
       "  婚姻状况 是否拥有房产   年收入 是否能偿还债务\n",
       "0   单身      是  12.5       否\n",
       "1   已婚      否  10.0       否\n",
       "2   单身      否   7.0       否\n",
       "3   已婚      是  12.0       否\n",
       "4   离婚      否   9.5       是"
      ]
     },
     "execution_count": 4,
     "metadata": {},
     "output_type": "execute_result"
    }
   ],
   "source": [
    "data"
   ]
  },
  {
   "cell_type": "code",
   "execution_count": 5,
   "id": "aba24d6a-8dcc-4ef7-9f36-b7c9a81f35ee",
   "metadata": {},
   "outputs": [
    {
     "data": {
      "text/html": [
       "<div>\n",
       "<style scoped>\n",
       "    .dataframe tbody tr th:only-of-type {\n",
       "        vertical-align: middle;\n",
       "    }\n",
       "\n",
       "    .dataframe tbody tr th {\n",
       "        vertical-align: top;\n",
       "    }\n",
       "\n",
       "    .dataframe thead th {\n",
       "        text-align: right;\n",
       "    }\n",
       "</style>\n",
       "<table border=\"1\" class=\"dataframe\">\n",
       "  <thead>\n",
       "    <tr style=\"text-align: right;\">\n",
       "      <th></th>\n",
       "      <th>婚姻状况_单身</th>\n",
       "      <th>婚姻状况_已婚</th>\n",
       "      <th>婚姻状况_离婚</th>\n",
       "      <th>是否拥有房产_否</th>\n",
       "      <th>是否拥有房产_是</th>\n",
       "    </tr>\n",
       "  </thead>\n",
       "  <tbody>\n",
       "    <tr>\n",
       "      <th>0</th>\n",
       "      <td>1</td>\n",
       "      <td>0</td>\n",
       "      <td>0</td>\n",
       "      <td>0</td>\n",
       "      <td>1</td>\n",
       "    </tr>\n",
       "    <tr>\n",
       "      <th>1</th>\n",
       "      <td>0</td>\n",
       "      <td>1</td>\n",
       "      <td>0</td>\n",
       "      <td>1</td>\n",
       "      <td>0</td>\n",
       "    </tr>\n",
       "    <tr>\n",
       "      <th>2</th>\n",
       "      <td>1</td>\n",
       "      <td>0</td>\n",
       "      <td>0</td>\n",
       "      <td>1</td>\n",
       "      <td>0</td>\n",
       "    </tr>\n",
       "    <tr>\n",
       "      <th>3</th>\n",
       "      <td>0</td>\n",
       "      <td>1</td>\n",
       "      <td>0</td>\n",
       "      <td>0</td>\n",
       "      <td>1</td>\n",
       "    </tr>\n",
       "    <tr>\n",
       "      <th>4</th>\n",
       "      <td>0</td>\n",
       "      <td>0</td>\n",
       "      <td>1</td>\n",
       "      <td>1</td>\n",
       "      <td>0</td>\n",
       "    </tr>\n",
       "  </tbody>\n",
       "</table>\n",
       "</div>"
      ],
      "text/plain": [
       "   婚姻状况_单身  婚姻状况_已婚  婚姻状况_离婚  是否拥有房产_否  是否拥有房产_是\n",
       "0        1        0        0         0         1\n",
       "1        0        1        0         1         0\n",
       "2        1        0        0         1         0\n",
       "3        0        1        0         0         1\n",
       "4        0        0        1         1         0"
      ]
     },
     "execution_count": 5,
     "metadata": {},
     "output_type": "execute_result"
    }
   ],
   "source": [
    "pd.get_dummies(data[['婚姻状况', '是否拥有房产']], sparse=True)"
   ]
  },
  {
   "cell_type": "code",
   "execution_count": 6,
   "id": "4e02ee3b-fb1d-46b5-b6c0-52d6f752d62c",
   "metadata": {},
   "outputs": [
    {
     "name": "stdout",
     "output_type": "stream",
     "text": [
      "[[1. 0. 0. 0. 1.]\n",
      " [0. 1. 0. 1. 0.]\n",
      " [1. 0. 0. 1. 0.]\n",
      " [0. 1. 0. 0. 1.]\n",
      " [0. 0. 1. 1. 0.]]\n"
     ]
    }
   ],
   "source": [
    "from sklearn.preprocessing import OneHotEncoder\n",
    "\n",
    "print(OneHotEncoder().fit_transform(data[['婚姻状况', '是否拥有房产']]).todense())"
   ]
  },
  {
   "cell_type": "markdown",
   "id": "1b090594-9fde-4bf5-870f-a9710e79a8c0",
   "metadata": {},
   "source": [
    "#### 数据清洗(cleaning)\n",
    "现实中的数据⼀般是不完整的、有噪声的和不⼀致的。数据清洗试图填充缺失值、光滑噪声并识别离群点和纠正数据中的不⼀致。\n",
    "\n",
    "有时候我们获取的数据存在**缺失值**，往往⽤NaN来表示。  \n",
    "忽略缺失值：当缺失值较少的时候，我们可以丢弃缺失的元组，⽽缺失值较多的时候，我们需要采取别的⽅法。\n",
    "\n",
    "**基于pandas填补缺失值**\n",
    "- 判断缺失值：isna/notna\n",
    "- 处理缺失值：dropna/fillna"
   ]
  },
  {
   "cell_type": "markdown",
   "id": "fc679195-e92c-4f1b-b118-e3a2c766330d",
   "metadata": {
    "tags": []
   },
   "source": [
    "#### 数据离散化\n",
    "\n",
    "离散化 (Discretization) (有些时候叫 量化(quantization) 或 分箱(binning)) 提供了将连续特征划分为离散特征值的方法。 某些具有连续特征的数据集会受益于离散化，因为离散化可以把具有连续属性的数据集变换成只有标称属性(nominal attributes)的数据集。\n",
    "\n",
    "**K-bins离散化**\n",
    "\n",
    "`sklearn.preprocessing.KBinsDiscretizer`类使用k个bins把特征离散化，默认情况下返回one-hot编码后的稀疏矩阵，可以使用encode参数进行配置。\n",
    "\n",
    "参数：\n",
    "- n_bins：每个特征中分箱的个数，默认为5\n",
    "- encode：编码方式，可取值为{'onehot', 'ordinal', 'onehot-dense'}，默认为'onehot'\n",
    "- strategy：定义分箱宽度的方式，可取值为{'quantile':等频分箱, 'uniform':等宽分箱, 'k-means':按聚类分箱，每个箱中的样本到最近的一维k均值聚类簇心的距离都相等}，默认为'quantile'"
   ]
  },
  {
   "cell_type": "code",
   "execution_count": 7,
   "id": "06346051-f458-4b58-b17e-4b46855f832b",
   "metadata": {},
   "outputs": [
    {
     "data": {
      "text/html": [
       "<div>\n",
       "<style scoped>\n",
       "    .dataframe tbody tr th:only-of-type {\n",
       "        vertical-align: middle;\n",
       "    }\n",
       "\n",
       "    .dataframe tbody tr th {\n",
       "        vertical-align: top;\n",
       "    }\n",
       "\n",
       "    .dataframe thead th {\n",
       "        text-align: right;\n",
       "    }\n",
       "</style>\n",
       "<table border=\"1\" class=\"dataframe\">\n",
       "  <thead>\n",
       "    <tr style=\"text-align: right;\">\n",
       "      <th></th>\n",
       "      <th>婚姻状况</th>\n",
       "      <th>是否拥有房产</th>\n",
       "      <th>年收入</th>\n",
       "      <th>年龄</th>\n",
       "      <th>是否能偿还债务</th>\n",
       "    </tr>\n",
       "  </thead>\n",
       "  <tbody>\n",
       "    <tr>\n",
       "      <th>0</th>\n",
       "      <td>单身</td>\n",
       "      <td>是</td>\n",
       "      <td>12.5</td>\n",
       "      <td>20</td>\n",
       "      <td>否</td>\n",
       "    </tr>\n",
       "    <tr>\n",
       "      <th>1</th>\n",
       "      <td>已婚</td>\n",
       "      <td>否</td>\n",
       "      <td>10.0</td>\n",
       "      <td>28</td>\n",
       "      <td>否</td>\n",
       "    </tr>\n",
       "    <tr>\n",
       "      <th>2</th>\n",
       "      <td>单身</td>\n",
       "      <td>否</td>\n",
       "      <td>7.0</td>\n",
       "      <td>35</td>\n",
       "      <td>否</td>\n",
       "    </tr>\n",
       "    <tr>\n",
       "      <th>3</th>\n",
       "      <td>已婚</td>\n",
       "      <td>是</td>\n",
       "      <td>12.0</td>\n",
       "      <td>23</td>\n",
       "      <td>否</td>\n",
       "    </tr>\n",
       "    <tr>\n",
       "      <th>4</th>\n",
       "      <td>离婚</td>\n",
       "      <td>否</td>\n",
       "      <td>9.5</td>\n",
       "      <td>46</td>\n",
       "      <td>是</td>\n",
       "    </tr>\n",
       "  </tbody>\n",
       "</table>\n",
       "</div>"
      ],
      "text/plain": [
       "  婚姻状况 是否拥有房产   年收入  年龄 是否能偿还债务\n",
       "0   单身      是  12.5  20       否\n",
       "1   已婚      否  10.0  28       否\n",
       "2   单身      否   7.0  35       否\n",
       "3   已婚      是  12.0  23       否\n",
       "4   离婚      否   9.5  46       是"
      ]
     },
     "execution_count": 7,
     "metadata": {},
     "output_type": "execute_result"
    }
   ],
   "source": [
    "import pandas as pd\n",
    "import numpy as np\n",
    "\n",
    "data = pd.DataFrame({'婚姻状况':['单身', '已婚', '单身', '已婚', '离婚'], \n",
    "                     '是否拥有房产':['是', '否', '否', '是', '否'], \n",
    "                     '年收入':[12.5, 10, 7, 12, 9.5],\n",
    "                     '年龄':[20, 28, 35, 23, 46],\n",
    "                     '是否能偿还债务':['否', '否', '否', '否', '是']})\n",
    "data"
   ]
  },
  {
   "cell_type": "code",
   "execution_count": 8,
   "id": "6c64daef-1ede-454d-9315-810dd087b30f",
   "metadata": {},
   "outputs": [
    {
     "data": {
      "text/plain": [
       "array([[1., 0.],\n",
       "       [1., 0.],\n",
       "       [0., 1.],\n",
       "       [1., 0.],\n",
       "       [0., 2.]])"
      ]
     },
     "execution_count": 8,
     "metadata": {},
     "output_type": "execute_result"
    }
   ],
   "source": [
    "from sklearn.preprocessing import KBinsDiscretizer\n",
    "\n",
    "KBinsDiscretizer(n_bins=[2, 3], encode = 'ordinal', strategy = 'uniform').fit_transform(data[['年收入', '年龄']])"
   ]
  },
  {
   "cell_type": "markdown",
   "id": "948e10a5-c2b0-486f-850f-0dbea6998d4d",
   "metadata": {},
   "source": [
    "**特征二值化**\n",
    "\n",
    "`sklearn.preprocessing.Binarizer`类根据阈值将数据二值化（将特征值设置为0或1），用于处理连续型变量。大于阈值的值映射为1，而小于或等于阈值的值映射为0。默认阈值为0时，特征中所有的正值都映射到1。二值化是对文本计数数据的常见操作，分析人员可以决定仅考虑某种现象的存在与否。\n",
    "\n",
    "参数：\n",
    "- threshold：用来划分原始数据特征的阈值，默认值为0"
   ]
  },
  {
   "cell_type": "code",
   "execution_count": 9,
   "id": "ea4f6f59-6792-419c-9119-6040037bd58e",
   "metadata": {},
   "outputs": [
    {
     "data": {
      "text/plain": [
       "array([[1., 0.],\n",
       "       [0., 0.],\n",
       "       [0., 1.],\n",
       "       [1., 0.],\n",
       "       [0., 1.]])"
      ]
     },
     "execution_count": 9,
     "metadata": {},
     "output_type": "execute_result"
    }
   ],
   "source": [
    "from sklearn.preprocessing import Binarizer\n",
    "\n",
    "Binarizer(threshold=[10, 30]).fit_transform(data[['年收入', '年龄']])"
   ]
  },
  {
   "cell_type": "markdown",
   "id": "2d4da053-a8a0-45a7-b829-37261cf475c9",
   "metadata": {},
   "source": [
    "### 特征选择 - Filter方法\n",
    "\n",
    "`sklearn.feature_selection`"
   ]
  },
  {
   "cell_type": "code",
   "execution_count": 10,
   "id": "36e2b2cc-bcf0-402d-b0a1-091f72627e2d",
   "metadata": {
    "tags": []
   },
   "outputs": [
    {
     "data": {
      "text/plain": [
       "array([[5.1, 3.5, 1.4, 0.2],\n",
       "       [4.9, 3. , 1.4, 0.2],\n",
       "       [4.7, 3.2, 1.3, 0.2],\n",
       "       [4.6, 3.1, 1.5, 0.2],\n",
       "       [5. , 3.6, 1.4, 0.2],\n",
       "       [5.4, 3.9, 1.7, 0.4],\n",
       "       [4.6, 3.4, 1.4, 0.3],\n",
       "       [5. , 3.4, 1.5, 0.2],\n",
       "       [4.4, 2.9, 1.4, 0.2],\n",
       "       [4.9, 3.1, 1.5, 0.1],\n",
       "       [5.4, 3.7, 1.5, 0.2],\n",
       "       [4.8, 3.4, 1.6, 0.2],\n",
       "       [4.8, 3. , 1.4, 0.1],\n",
       "       [4.3, 3. , 1.1, 0.1],\n",
       "       [5.8, 4. , 1.2, 0.2],\n",
       "       [5.7, 4.4, 1.5, 0.4],\n",
       "       [5.4, 3.9, 1.3, 0.4],\n",
       "       [5.1, 3.5, 1.4, 0.3],\n",
       "       [5.7, 3.8, 1.7, 0.3],\n",
       "       [5.1, 3.8, 1.5, 0.3],\n",
       "       [5.4, 3.4, 1.7, 0.2],\n",
       "       [5.1, 3.7, 1.5, 0.4],\n",
       "       [4.6, 3.6, 1. , 0.2],\n",
       "       [5.1, 3.3, 1.7, 0.5],\n",
       "       [4.8, 3.4, 1.9, 0.2],\n",
       "       [5. , 3. , 1.6, 0.2],\n",
       "       [5. , 3.4, 1.6, 0.4],\n",
       "       [5.2, 3.5, 1.5, 0.2],\n",
       "       [5.2, 3.4, 1.4, 0.2],\n",
       "       [4.7, 3.2, 1.6, 0.2],\n",
       "       [4.8, 3.1, 1.6, 0.2],\n",
       "       [5.4, 3.4, 1.5, 0.4],\n",
       "       [5.2, 4.1, 1.5, 0.1],\n",
       "       [5.5, 4.2, 1.4, 0.2],\n",
       "       [4.9, 3.1, 1.5, 0.2],\n",
       "       [5. , 3.2, 1.2, 0.2],\n",
       "       [5.5, 3.5, 1.3, 0.2],\n",
       "       [4.9, 3.6, 1.4, 0.1],\n",
       "       [4.4, 3. , 1.3, 0.2],\n",
       "       [5.1, 3.4, 1.5, 0.2],\n",
       "       [5. , 3.5, 1.3, 0.3],\n",
       "       [4.5, 2.3, 1.3, 0.3],\n",
       "       [4.4, 3.2, 1.3, 0.2],\n",
       "       [5. , 3.5, 1.6, 0.6],\n",
       "       [5.1, 3.8, 1.9, 0.4],\n",
       "       [4.8, 3. , 1.4, 0.3],\n",
       "       [5.1, 3.8, 1.6, 0.2],\n",
       "       [4.6, 3.2, 1.4, 0.2],\n",
       "       [5.3, 3.7, 1.5, 0.2],\n",
       "       [5. , 3.3, 1.4, 0.2],\n",
       "       [7. , 3.2, 4.7, 1.4],\n",
       "       [6.4, 3.2, 4.5, 1.5],\n",
       "       [6.9, 3.1, 4.9, 1.5],\n",
       "       [5.5, 2.3, 4. , 1.3],\n",
       "       [6.5, 2.8, 4.6, 1.5],\n",
       "       [5.7, 2.8, 4.5, 1.3],\n",
       "       [6.3, 3.3, 4.7, 1.6],\n",
       "       [4.9, 2.4, 3.3, 1. ],\n",
       "       [6.6, 2.9, 4.6, 1.3],\n",
       "       [5.2, 2.7, 3.9, 1.4],\n",
       "       [5. , 2. , 3.5, 1. ],\n",
       "       [5.9, 3. , 4.2, 1.5],\n",
       "       [6. , 2.2, 4. , 1. ],\n",
       "       [6.1, 2.9, 4.7, 1.4],\n",
       "       [5.6, 2.9, 3.6, 1.3],\n",
       "       [6.7, 3.1, 4.4, 1.4],\n",
       "       [5.6, 3. , 4.5, 1.5],\n",
       "       [5.8, 2.7, 4.1, 1. ],\n",
       "       [6.2, 2.2, 4.5, 1.5],\n",
       "       [5.6, 2.5, 3.9, 1.1],\n",
       "       [5.9, 3.2, 4.8, 1.8],\n",
       "       [6.1, 2.8, 4. , 1.3],\n",
       "       [6.3, 2.5, 4.9, 1.5],\n",
       "       [6.1, 2.8, 4.7, 1.2],\n",
       "       [6.4, 2.9, 4.3, 1.3],\n",
       "       [6.6, 3. , 4.4, 1.4],\n",
       "       [6.8, 2.8, 4.8, 1.4],\n",
       "       [6.7, 3. , 5. , 1.7],\n",
       "       [6. , 2.9, 4.5, 1.5],\n",
       "       [5.7, 2.6, 3.5, 1. ],\n",
       "       [5.5, 2.4, 3.8, 1.1],\n",
       "       [5.5, 2.4, 3.7, 1. ],\n",
       "       [5.8, 2.7, 3.9, 1.2],\n",
       "       [6. , 2.7, 5.1, 1.6],\n",
       "       [5.4, 3. , 4.5, 1.5],\n",
       "       [6. , 3.4, 4.5, 1.6],\n",
       "       [6.7, 3.1, 4.7, 1.5],\n",
       "       [6.3, 2.3, 4.4, 1.3],\n",
       "       [5.6, 3. , 4.1, 1.3],\n",
       "       [5.5, 2.5, 4. , 1.3],\n",
       "       [5.5, 2.6, 4.4, 1.2],\n",
       "       [6.1, 3. , 4.6, 1.4],\n",
       "       [5.8, 2.6, 4. , 1.2],\n",
       "       [5. , 2.3, 3.3, 1. ],\n",
       "       [5.6, 2.7, 4.2, 1.3],\n",
       "       [5.7, 3. , 4.2, 1.2],\n",
       "       [5.7, 2.9, 4.2, 1.3],\n",
       "       [6.2, 2.9, 4.3, 1.3],\n",
       "       [5.1, 2.5, 3. , 1.1],\n",
       "       [5.7, 2.8, 4.1, 1.3],\n",
       "       [6.3, 3.3, 6. , 2.5],\n",
       "       [5.8, 2.7, 5.1, 1.9],\n",
       "       [7.1, 3. , 5.9, 2.1],\n",
       "       [6.3, 2.9, 5.6, 1.8],\n",
       "       [6.5, 3. , 5.8, 2.2],\n",
       "       [7.6, 3. , 6.6, 2.1],\n",
       "       [4.9, 2.5, 4.5, 1.7],\n",
       "       [7.3, 2.9, 6.3, 1.8],\n",
       "       [6.7, 2.5, 5.8, 1.8],\n",
       "       [7.2, 3.6, 6.1, 2.5],\n",
       "       [6.5, 3.2, 5.1, 2. ],\n",
       "       [6.4, 2.7, 5.3, 1.9],\n",
       "       [6.8, 3. , 5.5, 2.1],\n",
       "       [5.7, 2.5, 5. , 2. ],\n",
       "       [5.8, 2.8, 5.1, 2.4],\n",
       "       [6.4, 3.2, 5.3, 2.3],\n",
       "       [6.5, 3. , 5.5, 1.8],\n",
       "       [7.7, 3.8, 6.7, 2.2],\n",
       "       [7.7, 2.6, 6.9, 2.3],\n",
       "       [6. , 2.2, 5. , 1.5],\n",
       "       [6.9, 3.2, 5.7, 2.3],\n",
       "       [5.6, 2.8, 4.9, 2. ],\n",
       "       [7.7, 2.8, 6.7, 2. ],\n",
       "       [6.3, 2.7, 4.9, 1.8],\n",
       "       [6.7, 3.3, 5.7, 2.1],\n",
       "       [7.2, 3.2, 6. , 1.8],\n",
       "       [6.2, 2.8, 4.8, 1.8],\n",
       "       [6.1, 3. , 4.9, 1.8],\n",
       "       [6.4, 2.8, 5.6, 2.1],\n",
       "       [7.2, 3. , 5.8, 1.6],\n",
       "       [7.4, 2.8, 6.1, 1.9],\n",
       "       [7.9, 3.8, 6.4, 2. ],\n",
       "       [6.4, 2.8, 5.6, 2.2],\n",
       "       [6.3, 2.8, 5.1, 1.5],\n",
       "       [6.1, 2.6, 5.6, 1.4],\n",
       "       [7.7, 3. , 6.1, 2.3],\n",
       "       [6.3, 3.4, 5.6, 2.4],\n",
       "       [6.4, 3.1, 5.5, 1.8],\n",
       "       [6. , 3. , 4.8, 1.8],\n",
       "       [6.9, 3.1, 5.4, 2.1],\n",
       "       [6.7, 3.1, 5.6, 2.4],\n",
       "       [6.9, 3.1, 5.1, 2.3],\n",
       "       [5.8, 2.7, 5.1, 1.9],\n",
       "       [6.8, 3.2, 5.9, 2.3],\n",
       "       [6.7, 3.3, 5.7, 2.5],\n",
       "       [6.7, 3. , 5.2, 2.3],\n",
       "       [6.3, 2.5, 5. , 1.9],\n",
       "       [6.5, 3. , 5.2, 2. ],\n",
       "       [6.2, 3.4, 5.4, 2.3],\n",
       "       [5.9, 3. , 5.1, 1.8]])"
      ]
     },
     "execution_count": 10,
     "metadata": {},
     "output_type": "execute_result"
    }
   ],
   "source": [
    "from sklearn.datasets import load_iris\n",
    "\n",
    "#导入IRIS数据集\n",
    "iris = load_iris()\n",
    "\n",
    "#特征矩阵\n",
    "iris.data\n",
    "\n",
    "#目标向量\n",
    "# iris.target"
   ]
  },
  {
   "cell_type": "markdown",
   "id": "c1d82820-c5e9-42cf-91ee-43a54b55fdb4",
   "metadata": {},
   "source": [
    "**方差选择法**\n",
    "\n",
    "使用方差选择法，先要计算各个特征的方差，然后根据阈值，选择方差大于阈值的特征。使用feature_selection库的VarianceThreshold类来选择特征的代码如下："
   ]
  },
  {
   "cell_type": "code",
   "execution_count": 11,
   "id": "fe5a28fd-189d-48cb-aac0-92381c4e2b54",
   "metadata": {},
   "outputs": [
    {
     "data": {
      "text/plain": [
       "(150, 1)"
      ]
     },
     "execution_count": 11,
     "metadata": {},
     "output_type": "execute_result"
    }
   ],
   "source": [
    "from sklearn.feature_selection import VarianceThreshold\n",
    "\n",
    "#参数threshold为方差的阈值\n",
    "X = VarianceThreshold(threshold=3).fit_transform(iris.data)\n",
    "X.shape"
   ]
  },
  {
   "cell_type": "markdown",
   "id": "bff7a847-64ee-4685-9a04-fa799e70a911",
   "metadata": {},
   "source": [
    "**相关系数法**\n",
    "\n",
    "皮尔森相关系数是一种最简单的，能帮助理解特征和响应变量之间关系的方法，该方法衡量的是变量之间的线性相关性，结果的取值区间为[-1，1]，-1表示完全的负相关，+1表示完全的正相关，0表示没有线性相关。\n",
    "\n",
    "使用相关系数法，需要计算各个特征对目标值的相关系数以及相关系数的P值。\n",
    "\n",
    "Scipy的 pearsonr 方法能够同时计算 相关系数 和p-value.\n",
    "\n",
    "下面这个例子中，我们比较了变量在加入噪音之前和之后的差异。当噪音比较小的时候，相关性很强，p-value很低。"
   ]
  },
  {
   "cell_type": "code",
   "execution_count": 12,
   "id": "a13e9cd6-75f7-46ac-a501-4016a1eb73ff",
   "metadata": {},
   "outputs": [
    {
     "name": "stdout",
     "output_type": "stream",
     "text": [
      "Lower noise： (0.7182483686213833, 7.324017313001002e-49)\n",
      "Higher noise： (0.057964292079338064, 0.3170099388532581)\n"
     ]
    }
   ],
   "source": [
    "import numpy as np\n",
    "from scipy.stats import pearsonr\n",
    "np.random.seed(0)\n",
    "size = 300\n",
    "x = np.random.normal(0, 1, size)\n",
    "# pearsonr(x, y)的输入为特征矩阵和目标向量\n",
    "print(\"Lower noise：\", pearsonr(x, x + np.random.normal(0, 1, size)))\n",
    "print(\"Higher noise：\", pearsonr(x, x + np.random.normal(0, 10, size)))"
   ]
  },
  {
   "cell_type": "markdown",
   "id": "a7e90693-01bc-4862-83e5-913719cdb811",
   "metadata": {},
   "source": [
    "Pearson相关系数的一个明显缺陷是，作为特征排序机制，他只对线性关系敏感。如果关系是非线性的，即便两个变量具有一一对应的关系，Pearson相关性也可能会接近0。"
   ]
  },
  {
   "cell_type": "markdown",
   "id": "2fdee846-fc8d-41d5-9f2d-15a3c9fb8bce",
   "metadata": {},
   "source": [
    "**卡方检验法**\n",
    "\n",
    "经典的卡方检验是检验定性自变量对定性因变量的相关性。假设自变量有N种取值，因变量有M种取值，考虑自变量等于i且因变量等于j的样本频数的观察值与期望的差距，构建统计量：\n",
    "\n",
    "${\\chi}^2 = \\Sigma \\frac{(A-E)^2}{E}$\n",
    "\n",
    "这个统计量的含义简而言之就是自变量对因变量的相关性。用feature_selection库的SelectKBest类结合卡方检验来选择特征的代码如下：\n"
   ]
  },
  {
   "cell_type": "code",
   "execution_count": 13,
   "id": "ac4c53a2-43cd-403c-8994-676b2a1e703c",
   "metadata": {},
   "outputs": [
    {
     "data": {
      "text/plain": [
       "(150, 2)"
      ]
     },
     "execution_count": 13,
     "metadata": {},
     "output_type": "execute_result"
    }
   ],
   "source": [
    "from sklearn.feature_selection import SelectKBest\n",
    "from sklearn.feature_selection import chi2\n",
    " \n",
    "#选择K个最好的特征，返回选择特征后的数据\n",
    "X = SelectKBest(chi2, k=2).fit_transform(iris.data, iris.target)\n",
    "X.shape"
   ]
  },
  {
   "cell_type": "code",
   "execution_count": null,
   "id": "fe92ba5a-9a5e-4332-aeb8-a1b57462e6fc",
   "metadata": {},
   "outputs": [],
   "source": []
  }
 ],
 "metadata": {
  "kernelspec": {
   "display_name": "Python 3 (ipykernel)",
   "language": "python",
   "name": "python3"
  },
  "language_info": {
   "codemirror_mode": {
    "name": "ipython",
    "version": 3
   },
   "file_extension": ".py",
   "mimetype": "text/x-python",
   "name": "python",
   "nbconvert_exporter": "python",
   "pygments_lexer": "ipython3",
   "version": "3.7.13"
  }
 },
 "nbformat": 4,
 "nbformat_minor": 5
}
