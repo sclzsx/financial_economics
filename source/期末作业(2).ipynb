{
 "cells": [
  {
   "cell_type": "markdown",
   "metadata": {},
   "source": [
    "### 期末作业"
   ]
  },
  {
   "cell_type": "markdown",
   "metadata": {},
   "source": [
    "**要求：**\n",
    "\n",
    "1. 请将期末作业于**2022年12月15日晚24:00之前**提交至邮箱 liyan_zjgsu@163.com\n",
    "2. 请以jupyter notebook的形式提交作业，文件及邮件标题的命名方式均为班级_学号_姓名（请直接提交jupyter notebook不要压缩）\n",
    "3. 特别说明：为了便于给分，请大家尽可能在编写代码时写上注释，尤其是对具体解法以及生成结果的说明。"
   ]
  },
  {
   "cell_type": "markdown",
   "metadata": {},
   "source": [
    "Problems：\n",
    "    \n",
    "    Exercise1 in DesicionTree.ipynb\n",
    "    Exercise2 in FinTech_PartII_3ndClass.ipynb\n",
    "    Exercise3 in FinTech_PartII_4ndClass.ipynb\n",
    "    Exercise4 in 违约预测.ipynb"
   ]
  },
  {
   "cell_type": "code",
   "execution_count": null,
   "metadata": {},
   "outputs": [],
   "source": []
  }
 ],
 "metadata": {
  "kernelspec": {
   "display_name": "Python 3 (ipykernel)",
   "language": "python",
   "name": "python3"
  },
  "language_info": {
   "codemirror_mode": {
    "name": "ipython",
    "version": 3
   },
   "file_extension": ".py",
   "mimetype": "text/x-python",
   "name": "python",
   "nbconvert_exporter": "python",
   "pygments_lexer": "ipython3",
   "version": "3.7.13"
  }
 },
 "nbformat": 4,
 "nbformat_minor": 4
}
