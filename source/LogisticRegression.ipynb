{
 "cells": [
  {
   "cell_type": "markdown",
   "id": "5ec6371c-1d5d-4f71-a52b-686ddcd0d28c",
   "metadata": {},
   "source": [
    "#### 金融科技学\n",
    "liyan_zjgsu@163.com"
   ]
  },
  {
   "cell_type": "markdown",
   "id": "340c42fd-5fb3-47a5-8351-3f568fd37071",
   "metadata": {},
   "source": [
    "scikit-learn 中 logistic 回归在 LogisticRegression 类中实现了二分类（binary）、一对多分类（one-vs-rest）及多项式 logistic 回归，并带有可选的 L1 和 L2 正则化。\n",
    ">机器学习中经常会在损失函数中加入正则项，称之为正则化（Regularize）。  \n",
    ">目的：防止模型过拟合  \n",
    ">原理：在损失函数上加上某些规则（限制），缩小解空间，从而减少求出过拟合解的可能性\n",
    "\n",
    "[sklearn.linear_model.LogisticRegression](https://scikit-learn.org/stable/modules/generated/sklearn.linear_model.LogisticRegression.html#sklearn.linear_model.LogisticRegression)\n",
    "\n",
    "使用scikit-learn进行逻辑回归的实现流程：\n",
    "1. 模型初始化：clm = LogisticRegression()\n",
    "2. 模型学习：clm.fit(x_train, y_train)\n",
    "3. 模型预测：clm.predict(x_test)\n",
    "4. 模型评估：clm.score(x_test,y_test)"
   ]
  },
  {
   "cell_type": "code",
   "execution_count": 1,
   "id": "bf4b80d8-4dc3-46df-9b80-5a5927d14337",
   "metadata": {},
   "outputs": [
    {
     "name": "stdout",
     "output_type": "stream",
     "text": [
      "dict_keys(['data', 'target', 'frame', 'target_names', 'DESCR', 'feature_names', 'filename', 'data_module'])\n",
      "data数组类型: <class 'numpy.ndarray'>\n"
     ]
    },
    {
     "data": {
      "text/html": [
       "<div>\n",
       "<style scoped>\n",
       "    .dataframe tbody tr th:only-of-type {\n",
       "        vertical-align: middle;\n",
       "    }\n",
       "\n",
       "    .dataframe tbody tr th {\n",
       "        vertical-align: top;\n",
       "    }\n",
       "\n",
       "    .dataframe thead th {\n",
       "        text-align: right;\n",
       "    }\n",
       "</style>\n",
       "<table border=\"1\" class=\"dataframe\">\n",
       "  <thead>\n",
       "    <tr style=\"text-align: right;\">\n",
       "      <th></th>\n",
       "      <th>sepal length (cm)</th>\n",
       "      <th>sepal width (cm)</th>\n",
       "      <th>petal length (cm)</th>\n",
       "      <th>petal width (cm)</th>\n",
       "      <th>class</th>\n",
       "    </tr>\n",
       "  </thead>\n",
       "  <tbody>\n",
       "    <tr>\n",
       "      <th>0</th>\n",
       "      <td>5.1</td>\n",
       "      <td>3.5</td>\n",
       "      <td>1.4</td>\n",
       "      <td>0.2</td>\n",
       "      <td>0</td>\n",
       "    </tr>\n",
       "    <tr>\n",
       "      <th>1</th>\n",
       "      <td>4.9</td>\n",
       "      <td>3.0</td>\n",
       "      <td>1.4</td>\n",
       "      <td>0.2</td>\n",
       "      <td>0</td>\n",
       "    </tr>\n",
       "    <tr>\n",
       "      <th>2</th>\n",
       "      <td>4.7</td>\n",
       "      <td>3.2</td>\n",
       "      <td>1.3</td>\n",
       "      <td>0.2</td>\n",
       "      <td>0</td>\n",
       "    </tr>\n",
       "    <tr>\n",
       "      <th>3</th>\n",
       "      <td>4.6</td>\n",
       "      <td>3.1</td>\n",
       "      <td>1.5</td>\n",
       "      <td>0.2</td>\n",
       "      <td>0</td>\n",
       "    </tr>\n",
       "    <tr>\n",
       "      <th>4</th>\n",
       "      <td>5.0</td>\n",
       "      <td>3.6</td>\n",
       "      <td>1.4</td>\n",
       "      <td>0.2</td>\n",
       "      <td>0</td>\n",
       "    </tr>\n",
       "  </tbody>\n",
       "</table>\n",
       "</div>"
      ],
      "text/plain": [
       "   sepal length (cm)  sepal width (cm)  petal length (cm)  petal width (cm)  \\\n",
       "0                5.1               3.5                1.4               0.2   \n",
       "1                4.9               3.0                1.4               0.2   \n",
       "2                4.7               3.2                1.3               0.2   \n",
       "3                4.6               3.1                1.5               0.2   \n",
       "4                5.0               3.6                1.4               0.2   \n",
       "\n",
       "   class  \n",
       "0      0  \n",
       "1      0  \n",
       "2      0  \n",
       "3      0  \n",
       "4      0  "
      ]
     },
     "execution_count": 1,
     "metadata": {},
     "output_type": "execute_result"
    }
   ],
   "source": [
    "#logistic算法\n",
    "#从 scikit-learn库导入线性模型中的logistic回归算法\n",
    "from sklearn.linear_model import LogisticRegression\n",
    "#导入sklearn 中的自带数据集 鸢尾花数据集\n",
    "from sklearn.datasets import load_iris\n",
    "# skleran 提供的分割数据集的方法\n",
    "from sklearn.model_selection import train_test_split\n",
    "\n",
    "#载入鸢尾花数据集\n",
    "iris=load_iris()\n",
    "# 查看数据键值\n",
    "print(iris.keys())\n",
    "\n",
    "# data 数组的每一行对应一朵花，列代表每朵花的四个测量数据，分别是：花瓣的长度，宽度，花萼的长度、宽度\n",
    "print(\"data数组类型: {}\".format(type(iris['data'])))\n",
    "\n",
    "# 将数据集以dataframe形式呈现\n",
    "import pandas as pd\n",
    "iris_df = pd.DataFrame(iris.data, columns=iris.feature_names)\n",
    "iris_df['class'] = iris.target\n",
    "iris_df.head()"
   ]
  },
  {
   "cell_type": "code",
   "execution_count": 13,
   "id": "f9c75d47-e714-46a4-9780-de3e88bde84c",
   "metadata": {},
   "outputs": [
    {
     "name": "stdout",
     "output_type": "stream",
     "text": [
      "[2 1 0 2 0 2 0 1 1 1 2 1 1 1 1 0 1 1 0 0 2 1 0 0 2 0 0 1 1 0 2 1 0 2 2 1 0\n",
      " 2]\n",
      "0.9736842105263158\n"
     ]
    }
   ],
   "source": [
    "#分割数据集训练集，测试集\n",
    "X_train,X_test,Y_train,Y_test = train_test_split(iris['data'], iris['target'], random_state=0, test_size=0.25)\n",
    "\n",
    "#设置最大迭代次数为1000，默认为100.不更改会出现警告提示\n",
    "log_reg = LogisticRegression(max_iter=1000)\n",
    "#训练模型\n",
    "clm = log_reg.fit(X_train,Y_train)\n",
    "#模型预测，并打印分类结果\n",
    "print(clm.predict(X_test))\n",
    "#用测试集对模型进行评分\n",
    "print(clm.score(X_test,Y_test))"
   ]
  },
  {
   "cell_type": "code",
   "execution_count": null,
   "id": "1b07ed86-af58-4276-8624-4aa8d586f3d1",
   "metadata": {},
   "outputs": [],
   "source": []
  }
 ],
 "metadata": {
  "kernelspec": {
   "display_name": "Python 3 (ipykernel)",
   "language": "python",
   "name": "python3"
  },
  "language_info": {
   "codemirror_mode": {
    "name": "ipython",
    "version": 3
   },
   "file_extension": ".py",
   "mimetype": "text/x-python",
   "name": "python",
   "nbconvert_exporter": "python",
   "pygments_lexer": "ipython3",
   "version": "3.7.13"
  }
 },
 "nbformat": 4,
 "nbformat_minor": 5
}
